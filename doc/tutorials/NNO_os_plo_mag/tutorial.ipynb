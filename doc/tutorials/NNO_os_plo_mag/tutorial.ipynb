{
 "cells": [
  {
   "cell_type": "code",
   "execution_count": 1,
   "id": "40ad917b-d7a1-4950-8593-abb9b4934e8a",
   "metadata": {},
   "source": [
    "import numpy as np\n",
    "np.set_printoptions(precision=6,suppress=True)\n",
    "from triqs.plot.mpl_interface import plt,oplot\n",
    "\n",
    "from h5 import HDFArchive\n",
    "\n",
    "from triqs_dft_tools.converters.vasp import VaspConverter \n",
    "import triqs_dft_tools.converters.plovasp.converter as plo_converter\n",
    "\n",
    "import pymatgen.io.vasp.outputs as vio\n",
    "from pymatgen.electronic_structure.dos import CompleteDos\n",
    "from pymatgen.electronic_structure.core import Spin, Orbital, OrbitalType\n",
    "\n",
    "import warnings \n",
    "warnings.filterwarnings(\"ignore\") #ignore some matplotlib warnings"
   ],
   "outputs": []
  },
  {
   "cell_type": "markdown",
   "id": "c24d5aa3-8bf2-471e-868d-32a0d4bb99f7",
   "metadata": {},
   "source": [
    "# 4. OS with VASP/PLOs and cthyb: AFM state of NdNiO2"
   ]
  },
  {
   "cell_type": "markdown",
   "id": "aed6468d-cb0b-4eee-93b4-665f4f80ac2d",
   "metadata": {},
   "source": [
    "In this tutorial we will take a look at a magnetic DMFT calculation for NdNiO2 in the antiferromagnetic phase. NdNiO2 shows a clear AFM phase at lower temperatures in DFT+DMFT calculation. The calculations will be performed for a large energy window with all Ni-$d$ orbitals treated as interacting with a density-density type interaction. \n",
    "\n",
    "Disclaimer: the interaction values, results etc. might not be 100% physical and are only for demonstrative purposes!\n",
    "\n",
    "This tutorial will guide you through the following steps: \n",
    "\n",
    "* run a non-magnetic Vasp calculation for NdNiO2 with a two atom supercell allowing magnetic order\n",
    "* create projectors in a large energy window for all Ni-$d$ orbitals and all O-$p$ orbitals\n",
    "* create the hdf5 input via the Vasp converter for solid_dmft\n",
    "* run a AFM DMFT one-shot calculation\n",
    "* take a look at the output and analyse the multiplets of the Ni-d states\n",
    "\n",
    "Warning: the DMFT calculations here are very heavy requiring ~2500 core hours for the DMFT job.\n",
    "\n",
    "We set a `path` variable here to the reference files, which should be changed when doing the actual calculations do the work directory:"
   ]
  },
  {
   "cell_type": "code",
   "execution_count": 2,
   "id": "6dde4dcd-c06a-45e0-9c06-ca11be265713",
   "metadata": {},
   "source": [
    "path = './ref/'"
   ],
   "outputs": []
  },
  {
   "cell_type": "markdown",
   "id": "b1356ed1-b4a6-48d2-8058-863b9e70a0be",
   "metadata": {},
   "source": [
    "## 1. Run DFT \n",
    "\n",
    "We start by running Vasp to create the raw projectors. The [INCAR](INCAR), [POSCAR](POSCAR), and [KPOINTS](KPOINTS) file are kept relatively simple. For the POTCAR the `PBE Nd_3`, `PBE Ni_pv` and `PBE O` pseudo potentials are used. Here we make sure that the Kohn-Sham eigenstates are well converged (rms), by performing a few extra SCF steps by setting `NELMIN=30`. Then, the INCAR flag `LOCPROJ = LOCPROJ = 3 4 : d : Pr` instructs Vasp to create projectors for the Ni-$d$ shell of the two Ni sties. More information can be found on the [DFTTools webpage of the Vasp converter](https://triqs.github.io/dft_tools/unstable/guide/conv_vasp.html).\n",
    "\n",
    "Next, run Vasp with \n",
    "```\n",
    "mpirun vasp_std 1>out.vasp 2>err.vasp &\n",
    "```\n",
    "and monitor the output. After Vasp is finished the result should look like this: "
   ]
  },
  {
   "cell_type": "code",
   "execution_count": 3,
   "id": "bf1b811e-af03-4714-a644-ad7a7b57c42b",
   "metadata": {},
   "source": [
    "!tail -n 10 ref/out.vasp"
   ],
   "outputs": []
  },
  {
   "cell_type": "markdown",
   "id": "3364605b-c105-4ad8-9350-6569b506df07",
   "metadata": {},
   "source": [
    "let us take a look at the density of states from Vasp:"
   ]
  },
  {
   "cell_type": "code",
   "execution_count": 4,
   "id": "3529d644-40f5-4b6b-98f0-2d3a6acdb524",
   "metadata": {},
   "source": [
    "vasprun = vio.Vasprun(path+'/vasprun.xml')\n",
    "dos = vasprun.complete_dos\n",
    "Ni_spd_dos = dos.get_element_spd_dos(\"Ni\")\n",
    "O_spd_dos = dos.get_element_spd_dos(\"O\")\n",
    "Nd_spd_dos = dos.get_element_spd_dos(\"Nd\")"
   ],
   "outputs": []
  },
  {
   "cell_type": "code",
   "execution_count": 5,
   "id": "5fec0ad8-7ab4-4a02-bd72-b679f6ce6ed4",
   "metadata": {},
   "source": [
    "fig, ax = plt.subplots(1,dpi=150,figsize=(7,4))\n",
    "\n",
    "ax.plot(vasprun.tdos.energies - vasprun.efermi , vasprun.tdos.densities[Spin.up], label=r'total DOS', lw = 2) \n",
    "ax.plot(vasprun.tdos.energies - vasprun.efermi , Ni_spd_dos[OrbitalType.d].densities[Spin.up], label=r'Ni-d', lw = 2) \n",
    "ax.plot(vasprun.tdos.energies - vasprun.efermi , O_spd_dos[OrbitalType.p].densities[Spin.up], label=r'O-p', lw = 2)\n",
    "ax.plot(vasprun.tdos.energies - vasprun.efermi , Nd_spd_dos[OrbitalType.d].densities[Spin.up], label=r'Nd-d', lw = 2)\n",
    "\n",
    "ax.axvline(0, c='k', lw=1)\n",
    "ax.set_xlabel('Energy relative to Fermi energy (eV)')\n",
    "ax.set_ylabel('DOS (1/eV)')\n",
    "ax.set_xlim(-9,8.5)\n",
    "ax.set_ylim(0,20)\n",
    "ax.legend()\n",
    "plt.show()"
   ],
   "outputs": []
  },
  {
   "cell_type": "markdown",
   "id": "7d42627e-84c4-4386-92bd-f1193e9fd8fd",
   "metadata": {},
   "source": [
    "We see that the Ni-$d$ states are entangled / hybridizing with O-$p$ states and Nd-$d$ states in the energy range between -9 and 9 eV. Hence, we orthonormalize our projectors considering all states in this energy window to create well localized real-space states. These projectors will be indeed quite similar to the internal DFT+$U$ projectors used in VASP due to the large energy window. "
   ]
  },
  {
   "cell_type": "markdown",
   "id": "19285c12-c23a-4739-b5b1-56aa724bfb7f",
   "metadata": {},
   "source": [
    "## 2. Creating the hdf5 archive / DMFT input\n",
    "\n",
    "Next we run the [Vasp converter](https://triqs.github.io/dft_tools/unstable/guide/conv_vasp.html) to create an input h5 archive for solid_dmft. The [plo.cfg](plo.cfg) looks like this: "
   ]
  },
  {
   "cell_type": "code",
   "execution_count": 6,
   "id": "825c6168-97a7-4d2d-9699-b1d1e9af95dd",
   "metadata": {},
   "source": [
    "!cat plo.cfg"
   ],
   "outputs": []
  },
  {
   "cell_type": "markdown",
   "id": "2c3f2892-bb0a-4b8d-99af-76cff53b194b",
   "metadata": {},
   "source": [
    "we create $d$ like projectors within a large energy window from -10 to 10 eV for very localized states for both Ni sites. Important: the sites are markes as non equivalent, so that we can later have different spin orientations on them. The flag `TRANSFORM` swaps the $d_{xy}$ and $d_{x^2 - y^2}$ orbitals, since the orientation in the unit cell of the oxygen bonds is rotated by 45 degreee. Vasp always performs projections in a global cartesian coordinate frame, so one has to rotate the orbitals manually with the octahedra orientation. \n",
    "\n",
    "Let's run the converter:"
   ]
  },
  {
   "cell_type": "code",
   "execution_count": 7,
   "id": "8c687309-93f0-48b0-8862-85eca6c572e5",
   "metadata": {
    "tags": []
   },
   "source": [
    "# Generate and store PLOs\n",
    "plo_converter.generate_and_output_as_text('plo.cfg', vasp_dir=path)\n",
    "\n",
    "# run the archive creat routine\n",
    "conv = VaspConverter('nno')\n",
    "conv.convert_dft_input()"
   ],
   "outputs": []
  },
  {
   "cell_type": "markdown",
   "id": "bee3bf4f-0b75-445c-b3d3-7402f778fff4",
   "metadata": {},
   "source": [
    "We can here cross check the quality of our projectors by making sure that there are not imaginary elements in both the local Hamiltonian and the density matrix. Furthermore, we see that the occupation of the Ni-$d$ shell is roughly 8.5 electrons which is a bit different from the nominal charge of $d^9$ for the system due to the large hybridization with the other states. For mor physical insights into the systems and a discussion on the appropriate choice of projectors see this research article [PRB 103 195101 2021](https://doi.org/10.1103/PhysRevB.103.195101)"
   ]
  },
  {
   "cell_type": "markdown",
   "id": "18739e80-3c9e-4bea-9e0b-677421ec99aa",
   "metadata": {},
   "source": [
    "## 3. Running the AFM calculation\n",
    "\n",
    "now we run the calculation at around 290 K, which should be below the ordering temperature of NdNiO2 in DMFT. The config file [config.toml](config.toml) for solid_dmft looks like this: \n",
    "\n",
    "    [general]\n",
    "    seedname = \"nno\"\n",
    "    jobname = \"NNO_lowT\"\n",
    "\n",
    "    enforce_off_diag = false\n",
    "    block_threshold = 0.001\n",
    "\n",
    "    \n",
    "    n_iw = 2001\n",
    "    n_tau = 20001\n",
    "\n",
    "    prec_mu = 0.001\n",
    "\n",
    "    h_int_type = \"density_density\"\n",
    "    U = 8.0\n",
    "    J = 1.0\n",
    "\n",
    "    # temperature ~290 K\n",
    "    beta = 40\n",
    "\n",
    "    magnetic = true\n",
    "    magmom = -0.3, 0.3\n",
    "    afm_order = true\n",
    "\n",
    "    n_iter_dmft = 14\n",
    "\n",
    "    g0_mix = 0.9\n",
    "\n",
    "    dc_type = 0\n",
    "    dc = true\n",
    "    dc_dmft = false\n",
    "\n",
    "    [solver]\n",
    "    type = \"cthyb\"\n",
    "    length_cycle = 2000\n",
    "    n_warmup_cycles = 5e+3\n",
    "    n_cycles_tot = 1e+7\n",
    "    imag_threshold = 1e-5\n",
    "\n",
    "    perform_tail_fit = true\n",
    "    fit_max_moment = 6\n",
    "    fit_min_w = 10\n",
    "    fit_max_w = 16\n",
    "    measure_density_matrix = true"
   ]
  },
  {
   "cell_type": "markdown",
   "id": "26910f2d-fd3d-4d72-adc5-99e79f72452d",
   "metadata": {},
   "source": [
    "Let's go through some special options we set in the config file: \n",
    "\n",
    "* we changed `n_iw=2000` because the large energy window of the calculation requires more Matsubara frequencies\n",
    "* `h_int_type` is set to `density_density` to reduce complexity of the problem\n",
    "* `beta=40` here we set the temperature to ~290K\n",
    "* `magnetic=true` lift spin degeneracy\n",
    "* `magmom` here we specify the magnetic order. Here, we say that both Ni sites have the same spin, which should average to 0 at this high temperature. The magnetic moment is specified as an potential in eV splitting up / down channel of the initial self-energy\n",
    "* `afm_order=true` tells solid_dmft to not solve impurities with the same `magmom` but rather copy the self-energy and if necessary flip the spin accordingly\n",
    "* `length_cycle=2000` is the length between two Green's function measurements in cthyb. This number has to be choosen carefully to give an autocorrelation time ~1 for all orbitals\n",
    "*  `perform_tail_fit=true` : here we use tail fitting to get good high frequency self-energy behavior\n",
    "* `measure_density_matrix = true ` measures the impurity many-body density matrix in the Fock basis for a multiplet analysis\n",
    "\n",
    "By setting the flag magmom to a small value with a flipped sign on both sites we tell solid_dmft that both sites are related by flipping the down and up channel. Now we run solid_dmft simply by executing `mpirun solid_dmft config.toml`. \n",
    "\n",
    "Caution: this is a very heavy job, which should be submitted on a cluster. \n",
    "\n",
    "In the beginning of the calculation we find the following lines:\n",
    "\n",
    "    AFM calculation selected, mapping self energies as follows:\n",
    "    imp  [copy sigma, source imp, switch up/down]\n",
    "    ---------------------------------------------\n",
    "    0: [False, 0, False]\n",
    "    1: [True, 0, True]\n",
    "\n",
    "this tells us that solid_dmft detected correctly how we want to orientate the spin moments. This also reflects itself during the iterations when the second impurity problem is not solved, but instead all properties of the first impurity are copied and the spin channels are flipped: \n",
    "\n",
    "    ...\n",
    "    copying the self-energy for shell 1 from shell 0\n",
    "    inverting spin channels: False\n",
    "    ...\n",
    "\n",
    "After the calculation is running or is finished we can take a look at the results:"
   ]
  },
  {
   "cell_type": "code",
   "execution_count": 8,
   "id": "f42d62cc-f8b4-4fc7-af76-cdf7ba13e8ea",
   "metadata": {},
   "source": [
    "with HDFArchive(path+'/nno.h5','r') as ar:\n",
    "    Sigma_iw = ar['DMFT_results/last_iter/Sigma_freq_0']\n",
    "    obs = ar['DMFT_results/observables']\n",
    "    conv_obs = ar['DMFT_results/convergence_obs']"
   ],
   "outputs": []
  },
  {
   "cell_type": "code",
   "execution_count": 9,
   "id": "65dba97b-a64c-4d88-b7cc-3607605a9aa3",
   "metadata": {},
   "source": [
    "fig, ax = plt.subplots(nrows=4, dpi=150, figsize=(7,8), sharex=True)\n",
    "fig.subplots_adjust(hspace=0.1)\n",
    "# imp occupation\n",
    "ax[0].plot(obs['iteration'], np.array(obs['imp_occ'][0]['up'])+np.array(obs['imp_occ'][0]['down']), '-o', label=r'Ni$_0$')\n",
    "ax[0].plot(obs['iteration'], np.array(obs['imp_occ'][1]['up'])+np.array(obs['imp_occ'][1]['down']), '-o', label=r'Ni$_1$')\n",
    "\n",
    "# imp magnetization\n",
    "ax[1].plot(obs['iteration'], (np.array(obs['imp_occ'][0]['up'])-np.array(obs['imp_occ'][0]['down'])), '-o', label=r'Ni$_0$')\n",
    "ax[1].plot(obs['iteration'], (np.array(obs['imp_occ'][1]['up'])-np.array(obs['imp_occ'][1]['down'])), '-o', label=r'Ni$_1$')\n",
    "\n",
    "# dxy, dyz, dz2, dxz, dx2-y2 orbital magnetization\n",
    "ax[2].plot(obs['iteration'], abs(np.array(obs['orb_occ'][0]['up'])[:,4]-np.array(obs['orb_occ'][0]['down'])[:,4]), '-o', label=r'$d_{x^2-y^2}$')\n",
    "ax[2].plot(obs['iteration'], abs(np.array(obs['orb_occ'][0]['up'])[:,2]-np.array(obs['orb_occ'][0]['down'])[:,2]), '-o', label=r'$d_{z^2}$')\n",
    "ax[2].plot(obs['iteration'], abs(np.array(obs['orb_occ'][0]['up'])[:,0]-np.array(obs['orb_occ'][0]['down'])[:,0]), '-o', label=r'$d_{xy}$')\n",
    "ax[2].plot(obs['iteration'], abs(np.array(obs['orb_occ'][0]['up'])[:,1]-np.array(obs['orb_occ'][0]['down'])[:,1]), '-o', label=r'$d_{yz/xz}$')\n",
    "\n",
    "ax[3].semilogy(conv_obs['d_Gimp'][0], '-o')\n",
    "\n",
    "ax[0].set_ylabel('Imp. occupation')\n",
    "ax[1].set_ylabel(r'magnetization $\\mu_B$')\n",
    "ax[2].set_ylabel(r'magnetization $\\mu_B$')\n",
    "ax[-1].set_xticks(range(0,len(obs['iteration'])))\n",
    "ax[-1].set_xlabel('Iterations')\n",
    "ax[0].set_ylim(8.4,8.6)\n",
    "ax[0].legend();ax[1].legend();ax[2].legend()\n",
    "\n",
    "ax[3].set_ylabel(r'|G$_{imp}$-G$_{loc}$|')\n",
    "\n",
    "plt.show()"
   ],
   "outputs": []
  },
  {
   "cell_type": "markdown",
   "id": "5d0d0238-d573-4e18-9785-79408d6ac73d",
   "metadata": {},
   "source": [
    "Let's take a look at the self-energy of the two Ni $e_g$ orbitals:"
   ]
  },
  {
   "cell_type": "code",
   "execution_count": 10,
   "id": "daf0c1d8-a1fe-413d-a7b2-2eed78258e9f",
   "metadata": {},
   "source": [
    "fig, ax = plt.subplots(1,dpi=150)\n",
    "\n",
    "ax.oplot(Sigma_iw['up_2'].imag, '-', color='C0', label=r'up $d_{z^2}$')\n",
    "ax.oplot(Sigma_iw['up_4'].imag, '-', color='C1', label=r'up $d_{x^2-y^2}$')\n",
    "\n",
    "ax.oplot(Sigma_iw['down_2'].imag, '--', color='C0', label=r'down $d_{z^2}$')\n",
    "ax.oplot(Sigma_iw['down_4'].imag, '--', color='C1', label=r'down $d_{x^2-y^2}$')\n",
    "\n",
    "ax.set_ylabel(r\"$Im \\Sigma (i \\omega)$\")\n",
    "\n",
    "ax.set_xlim(0,40)\n",
    "ax.set_ylim(-1.8,0)\n",
    "ax.legend()\n",
    "plt.show()"
   ],
   "outputs": []
  },
  {
   "cell_type": "markdown",
   "id": "2a07a928-e69f-4ad1-91ea-0386024ed5de",
   "metadata": {},
   "source": [
    "We can clearly see that a $\\omega_n=8$ the self-energy is replaced by the tail-fit as specified in the input config file. This cut is rather early, but ensures convergence. For higher sampling rates this has to be changed. We can also nicely observe a splitting of the spin channels indicating a magnetic solution, but we still have a metallic solution with both self-energies approaching 0 for small omega walues. However, the QMC noise is still rather high, especially in the $d_{x^2-y^2}$ orbital. "
   ]
  },
  {
   "cell_type": "markdown",
   "id": "8b22265a-4138-4d9c-8315-917320f27cb3",
   "metadata": {},
   "source": [
    "## 5. Multiplet analysis"
   ]
  },
  {
   "cell_type": "markdown",
   "id": "d3c2f507-757a-4880-b9dc-1f254c78c512",
   "metadata": {},
   "source": [
    "We follow now the triqs/cthyb tutorial on the [multiplet analysis](https://triqs.github.io/cthyb/unstable/guide/multiplet_analysis_notebook.html) to analyze the multiplets of the Ni-d orbitals: "
   ]
  },
  {
   "cell_type": "code",
   "execution_count": 11,
   "id": "c00e89e4-cf2e-4fca-84b1-11cb42072217",
   "metadata": {},
   "source": [
    "import pandas as pd\n",
    "pd.set_option('display.width', 130)\n",
    "\n",
    "from triqs.operators.util import make_operator_real\n",
    "from triqs.operators.util.observables import S_op\n",
    "from triqs.atom_diag import quantum_number_eigenvalues\n",
    "from triqs.operators import n"
   ],
   "outputs": []
  },
  {
   "cell_type": "markdown",
   "id": "fe674d6b-dae6-4497-82f5-6b8004afb275",
   "metadata": {},
   "source": [
    "first we have to load the measured density matrix and the local Hamiltonian of the impurity problem from the h5 archive, which we stored by setting `measure_density_matrix=true` in the config file: "
   ]
  },
  {
   "cell_type": "code",
   "execution_count": 12,
   "id": "786a549c-9306-4099-a4f0-3f19d2bdbb36",
   "metadata": {},
   "source": [
    "with HDFArchive(path+'/nno.h5','r') as ar:\n",
    "    rho = ar['DMFT_results/last_iter/full_dens_mat_0'] \n",
    "    h_loc = ar['DMFT_results/last_iter/h_loc_diag_0']"
   ],
   "outputs": []
  },
  {
   "cell_type": "markdown",
   "id": "585625be-0888-460e-879b-2a60215a69bb",
   "metadata": {},
   "source": [
    "`rho` is just a list of arrays containing the weights of each of the impurity eigenstates (many body states), and `h_loc` is a: "
   ]
  },
  {
   "cell_type": "code",
   "execution_count": 13,
   "id": "efeafafa-502b-4acd-8e76-4f7eab6eb9c3",
   "metadata": {},
   "source": [
    "print(type(h_loc))"
   ],
   "outputs": []
  },
  {
   "cell_type": "markdown",
   "id": "72450efb-b8b8-4169-9c01-6fb6259a3178",
   "metadata": {},
   "source": [
    "containing the local Hamiltonian of the impurity including eigenstates, eigenvalues etc."
   ]
  },
  {
   "cell_type": "code",
   "execution_count": 14,
   "id": "d767053a-f785-44d1-8a82-eafc5c8b9911",
   "metadata": {},
   "source": [
    "res = [] \n",
    "# get fundamental operators from atom_diag object\n",
    "occ_operators = [n(*op) for op in h_loc.fops]\n",
    "\n",
    "# construct total occupation operator from list\n",
    "N_op = sum(occ_operators)\n",
    "\n",
    "# create Sz operator and get eigenvalues\n",
    "Sz=S_op('z', spin_names=['up','down'], n_orb=5, off_diag=False)\n",
    "Sz = make_operator_real(Sz)\n",
    "Sz_states = quantum_number_eigenvalues(Sz, h_loc)\n",
    "\n",
    "# get particle numbers from h_loc_diag\n",
    "particle_numbers = quantum_number_eigenvalues(N_op, h_loc)\n",
    "N_max = int(max(map(max, particle_numbers)))\n",
    "\n",
    "for sub in range(0,h_loc.n_subspaces):\n",
    "\n",
    "    # first get Fock space spanning the subspace\n",
    "    fs_states = []\n",
    "    for ind, fs in enumerate(h_loc.fock_states[sub]):\n",
    "        state = bin(int(fs))[2:].rjust(N_max, '0')\n",
    "        fs_states.append(\"|\"+state+\">\")\n",
    "\n",
    "    for ind in range(h_loc.get_subspace_dim(sub)):\n",
    "\n",
    "        # get particle number\n",
    "        particle_number = round(particle_numbers[sub][ind])\n",
    "        if abs(particle_number-particle_numbers[sub][ind]) > 1e-8:\n",
    "            raise ValueError('round error for particle number to large!',\n",
    "                             particle_numbers[sub][ind])\n",
    "        else:\n",
    "            particle_number = int(particle_number)\n",
    "        eng=h_loc.energies[sub][ind]\n",
    "\n",
    "        # construct eigenvector in Fock state basis:\n",
    "        ev_state = ''\n",
    "        for i, elem in enumerate(h_loc.unitary_matrices[sub][:,ind]):\n",
    "            ev_state += ' {:+1.4f}'.format(elem)+fs_states[i]\n",
    "\n",
    "        # get spin state\n",
    "        ms=Sz_states[sub][ind]\n",
    "\n",
    "        # add to dict which becomes later the pandas data frame\n",
    "        res.append({\"Sub#\" : sub,\n",
    "                    \"EV#\" : ind,\n",
    "                    \"N\" : particle_number,\n",
    "                    \"energy\" : eng,\n",
    "                    \"prob\": rho[sub][ind,ind],\n",
    "                    \"m_s\": round(ms,1),\n",
    "                    \"|m_s|\": abs(round(ms,1)),\n",
    "                    \"state\": ev_state})\n",
    "# panda data frame from res\n",
    "res = pd.DataFrame(res, columns=res[0].keys())"
   ],
   "outputs": []
  },
  {
   "cell_type": "code",
   "execution_count": 15,
   "id": "54f249f9-15b8-4b1c-bebb-7b63952e875e",
   "metadata": {},
   "source": [
    "print(res.sort_values('prob', ascending=False)[:10])"
   ],
   "outputs": []
  },
  {
   "cell_type": "markdown",
   "id": "2af9aa9e-481b-48fb-952e-0d53080236c3",
   "metadata": {},
   "source": [
    "This table shows the eigenstates of the impurity with the highest weight / occurence probability. Each row shows the state of the system, where the 1/0 indicates if an orbital is occupied. The orbitals are ordered as given in the projectors (dxy, dyz, dz2, dxz, dx2-y2) from right to left, first one spin-channel, then the other. Additionally each row shows the particle sector of the state, the energy, and the `m_s` quantum number.\n",
    "\n",
    "It can be seen, that the state with the highest weight is a state with one hole (N=9 electrons) in the $d_{x^2-y^2, up}$ orbital carrying a spin of `0.5`. The second state in the list is a state with two holes (N=8). One in the $d_{x^2-y^2, up}$ and one in the $d_{z^2, up}$ giving a magnetic moment of 1. This is because the impurity occupation is somewhere between 8 and 9. We can also create a nice state histogram from this: "
   ]
  },
  {
   "cell_type": "code",
   "execution_count": 16,
   "id": "52d1d26d-587f-4b4d-a46a-f71850423b7d",
   "metadata": {},
   "source": [
    "# split into ms occupations\n",
    "fig, (ax1) = plt.subplots(1,1,figsize=(6,4), dpi=150)\n",
    "\n",
    "spin_occ_five = res.groupby(['N', '|m_s|']).sum()\n",
    "pivot_df = spin_occ_five.pivot_table(index='N', columns='|m_s|', values='prob')\n",
    "pivot_df.plot.bar(stacked = True, rot=0, ax = ax1)\n",
    "\n",
    "ax1.set_ylabel(r'prob amplitude')\n",
    "plt.show()"
   ],
   "outputs": []
  },
  {
   "cell_type": "markdown",
   "id": "f5111521-4e2b-4bce-8270-654883a31cd6",
   "metadata": {},
   "source": [
    "This concludes the tutorial. This you can try next:\n",
    "\n",
    "* try to find the transition temperature of the system by increasing the temperature in DMFT\n",
    "* improve the accuracy of the resulting self-energy by restarting the dmft calculation with more n_cycles_tot "
   ]
  }
 ],
 "metadata": {
  "kernelspec": {
   "display_name": "Python 3",
   "language": "python",
   "name": "python3"
  },
  "language_info": {
   "codemirror_mode": {
    "name": "ipython",
    "version": 3
   },
   "file_extension": ".py",
   "mimetype": "text/x-python",
   "name": "python",
   "nbconvert_exporter": "python",
   "pygments_lexer": "ipython3",
   "version": "3.10.10"
  }
 },
 "nbformat": 4,
 "nbformat_minor": 5
}
